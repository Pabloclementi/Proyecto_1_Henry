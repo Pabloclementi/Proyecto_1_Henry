{
 "cells": [
  {
   "cell_type": "code",
   "execution_count": 31,
   "metadata": {},
   "outputs": [],
   "source": [
    "#Importamos las librerias necesarias para comenzar con nuestro modelo de recomendacion\n",
    "import pandas as pd\n",
    "import numpy as np\n",
    "from sklearn.feature_extraction.text import TfidfVectorizer\n",
    "from sklearn.metrics.pairwise import cosine_similarity\n",
    "from sklearn.decomposition import TruncatedSVD\n",
    "import nltk as nlt\n",
    "from nltk.corpus import stopwords\n",
    "from nltk.tokenize import word_tokenize\n",
    "import string \n"
   ]
  },
  {
   "cell_type": "code",
   "execution_count": 32,
   "metadata": {},
   "outputs": [
    {
     "name": "stderr",
     "output_type": "stream",
     "text": [
      "[nltk_data] Downloading package stopwords to\n",
      "[nltk_data]     /Users/pabloclementi/nltk_data...\n",
      "[nltk_data]   Package stopwords is already up-to-date!\n",
      "[nltk_data] Downloading package punkt to\n",
      "[nltk_data]     /Users/pabloclementi/nltk_data...\n",
      "[nltk_data]   Package punkt is already up-to-date!\n"
     ]
    },
    {
     "data": {
      "text/plain": [
       "True"
      ]
     },
     "execution_count": 32,
     "metadata": {},
     "output_type": "execute_result"
    }
   ],
   "source": [
    "#Descargamos las stopwords\n",
    "nlt.download('stopwords')\n"
   ]
  },
  {
   "cell_type": "code",
   "execution_count": 33,
   "metadata": {},
   "outputs": [],
   "source": [
    "#Leemos nuestro archivo parquet. \n",
    "df_recomendacion = pd.read_parquet('data/df_recomendacion.parquet')\n",
    "# df_recomendacion.head() \n"
   ]
  },
  {
   "cell_type": "code",
   "execution_count": 35,
   "metadata": {},
   "outputs": [],
   "source": [
    "#Limpiaremos las columnas de texto y para hacemo vamos a definir las stopwords\n",
    "\n",
    "stopwords_english = set(stopwords.words('english'))\n",
    "stopwords_spanish = set(stopwords.words('spanish'))"
   ]
  },
  {
   "cell_type": "code",
   "execution_count": 36,
   "metadata": {},
   "outputs": [],
   "source": [
    "# Función para limpiar tokenizar nuestras columnas\n",
    "def clean_text(text):\n",
    "    # Tokenización\n",
    "    tokens = word_tokenize(text)\n",
    "    # Eliminar signos de puntuación y convertir a minúsculas\n",
    "    tokens = [word.lower() for word in tokens if word.isalpha()]\n",
    "    # Filtrar stopwords en inglés y español\n",
    "    tokens = [word for word in tokens if word not in stopwords_english and word not in stopwords_spanish]\n",
    "    return tokens\n",
    "\n"
   ]
  },
  {
   "cell_type": "code",
   "execution_count": 37,
   "metadata": {},
   "outputs": [],
   "source": [
    "df_recomendacion['clean_title'] = df_recomendacion['title'].apply(lambda x: clean_text(x))\n",
    "df_recomendacion['clean_overview'] = df_recomendacion['overview'].dropna().apply(lambda x: clean_text(x))"
   ]
  },
  {
   "cell_type": "code",
   "execution_count": 38,
   "metadata": {},
   "outputs": [],
   "source": [
    "#Eliminamos las columna title y overview\n",
    "df_recomendacion = df_recomendacion.drop(['overview'],axis=1)\n",
    "# df_recomendacion.head()\n"
   ]
  },
  {
   "cell_type": "code",
   "execution_count": 39,
   "metadata": {},
   "outputs": [],
   "source": [
    "# Convertimos las columnas seleccionadas para el modelo a str\n",
    "df_recomendacion['clean_title'] = df_recomendacion['clean_title'].astype(str)\n",
    "df_recomendacion['clean_overview'] = df_recomendacion['clean_overview'].astype(str)\n",
    "df_recomendacion['genresname'] = df_recomendacion['genresname'].astype(str)"
   ]
  },
  {
   "cell_type": "code",
   "execution_count": 41,
   "metadata": {},
   "outputs": [],
   "source": [
    "# Combinamos las columnas seleccionadas en una sola columna, dandole mas peso al titulo y al genero\n",
    "df_recomendacion['combined_features'] = df_recomendacion['clean_title']+ ' '+ df_recomendacion['clean_title'] + ' ' + df_recomendacion['clean_overview'] + ' ' + df_recomendacion['genresname']+ ' ' + df_recomendacion['genresname']+ ' ' + df_recomendacion['genresname']\n"
   ]
  },
  {
   "cell_type": "code",
   "execution_count": 42,
   "metadata": {},
   "outputs": [],
   "source": [
    "# Combinar las stop words en un solo conjunto\n",
    "combinacion_stop_words = list(set(stopwords_english).union(set(stopwords_spanish)))"
   ]
  },
  {
   "cell_type": "code",
   "execution_count": 43,
   "metadata": {},
   "outputs": [],
   "source": [
    "# Resetear los índices\n",
    "df_recomendacion.reset_index(drop=True, inplace=True)"
   ]
  },
  {
   "cell_type": "code",
   "execution_count": 44,
   "metadata": {},
   "outputs": [
    {
     "name": "stdout",
     "output_type": "stream",
     "text": [
      "Forma de la matriz TF-IDF antes de TruncatedSVD: (36034, 5000)\n",
      "Forma de la matriz después de TruncatedSVD: (36034, 100)\n"
     ]
    }
   ],
   "source": [
    "# Vectorización utilizando TF-IDF con stop words en inglés y español\n",
    "vectorizer = TfidfVectorizer(stop_words=combinacion_stop_words, max_features=5000)\n",
    "tfidf_matrix = vectorizer.fit_transform(df_recomendacion['combined_features'])\n",
    "# Verificar la forma de la matriz TF-IDF resultante\n",
    "print(\"Forma de la matriz TF-IDF antes de TruncatedSVD:\", tfidf_matrix.shape)\n",
    "\n",
    "# Aplicar TruncatedSVD para reducir la dimensionalidad\n",
    "svd = TruncatedSVD(n_components=100)\n",
    "tfidf_matrix_svd = svd.fit_transform(tfidf_matrix)\n",
    "\n",
    "# Verificar la forma de la matriz después de TruncatedSVD\n",
    "print(\"Forma de la matriz después de TruncatedSVD:\", tfidf_matrix_svd.shape)"
   ]
  },
  {
   "cell_type": "code",
   "execution_count": 45,
   "metadata": {},
   "outputs": [],
   "source": [
    "# Calcular la similitud del coseno\n",
    "cosine_sim = cosine_similarity(tfidf_matrix_svd, tfidf_matrix_svd) \n"
   ]
  },
  {
   "cell_type": "code",
   "execution_count": 49,
   "metadata": {},
   "outputs": [],
   "source": [
    "# Definir la función get_recommendations\n",
    "def get_recommendations(title, df=df_recomendacion, cosine_sim=cosine_sim):\n",
    "    try:\n",
    "        # Obtener el índice de la película que coincide con el título\n",
    "        idx = df[df['title'].str.lower() == title.lower()].index[0]\n",
    "\n",
    "        # Obtener los scores de similitud de todas las películas con esa película\n",
    "        sim_scores = list(enumerate(cosine_sim[idx]))\n",
    "\n",
    "        # Ordenar las películas según la puntuación de similitud\n",
    "        sim_scores = sorted(sim_scores, key=lambda x: x[1], reverse=True)\n",
    "\n",
    "        # Obtener las 5 películas más similares (excepto la misma película)\n",
    "        sim_scores = sim_scores[1:6]\n",
    "\n",
    "        # Obtener los índices de las películas más similares\n",
    "        movie_indices = [i[0] for i in sim_scores]\n",
    "\n",
    "        # Retornar los títulos de las películas más similares\n",
    "        return df['title'].iloc[movie_indices].tolist()\n",
    "    except IndexError:\n",
    "        raise HTTPException(status_code=404, detail=f\"No se encontraron películas similares para '{title}'. Asegúrate de haber puesto correctamente el título.\")\n"
   ]
  },
  {
   "cell_type": "code",
   "execution_count": 50,
   "metadata": {},
   "outputs": [
    {
     "data": {
      "text/plain": [
       "['Toy Story 2', 'Botsman i Popugay', 'Banana', 'Lorenzo', 'Feed the Kitty']"
      ]
     },
     "execution_count": 50,
     "metadata": {},
     "output_type": "execute_result"
    }
   ],
   "source": [
    "ejemplo = get_recommendations('toy story')\n",
    "ejemplo"
   ]
  },
  {
   "cell_type": "code",
   "execution_count": null,
   "metadata": {},
   "outputs": [],
   "source": []
  }
 ],
 "metadata": {
  "kernelspec": {
   "display_name": "Python 3",
   "language": "python",
   "name": "python3"
  },
  "language_info": {
   "codemirror_mode": {
    "name": "ipython",
    "version": 3
   },
   "file_extension": ".py",
   "mimetype": "text/x-python",
   "name": "python",
   "nbconvert_exporter": "python",
   "pygments_lexer": "ipython3",
   "version": "3.12.1"
  }
 },
 "nbformat": 4,
 "nbformat_minor": 2
}
