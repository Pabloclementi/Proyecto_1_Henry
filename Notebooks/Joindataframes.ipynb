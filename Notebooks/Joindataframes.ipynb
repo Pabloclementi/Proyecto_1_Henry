{
 "cells": [
  {
   "cell_type": "code",
   "execution_count": 1,
   "metadata": {},
   "outputs": [],
   "source": [
    "import pandas as pd\n",
    "import pyarrow "
   ]
  },
  {
   "cell_type": "code",
   "execution_count": 9,
   "metadata": {},
   "outputs": [],
   "source": [
    "peliculas_df = pd.read_csv('/Users/pabloclementi/Desktop/Proyecto1/Proyecto_1_henry/Proyecto_1_Henry/data/Movies_Limpio.csv')\n",
    "crew_df = pd.read_csv('/Users/pabloclementi/Desktop/Proyecto1/Proyecto_1_henry/Proyecto_1_Henry/data/credits_Limpio.csv')"
   ]
  },
  {
   "cell_type": "code",
   "execution_count": 10,
   "metadata": {},
   "outputs": [],
   "source": [
    "#Debemos realizar un left join , a traves de la columna id. \n",
    "peliculas_crew_df = pd.merge(peliculas_df, crew_df, on='id', how='left')\n",
    "# peliculas_crew_df.to_csv('peliculas_crew_df.csv', index=False)\n"
   ]
  },
  {
   "cell_type": "code",
   "execution_count": 11,
   "metadata": {},
   "outputs": [],
   "source": [
    "df_recomendaciones_final2 = pd.read_csv('/Users/pabloclementi/Desktop/Proyecto1/Proyecto_1_henry/Proyecto_1_Henry/data/df_recomendacion_final.csv')\n"
   ]
  },
  {
   "cell_type": "code",
   "execution_count": 12,
   "metadata": {},
   "outputs": [
    {
     "data": {
      "text/plain": [
       "Index(['Unnamed: 0', 'id', 'spoken_languagesname', 'genresname', 'title',\n",
       "       'vote_average', 'status', 'production_countriesname', 'release_year',\n",
       "       'director', 'actor', 'clean_title', 'clean_overview',\n",
       "       'combined_features'],\n",
       "      dtype='object')"
      ]
     },
     "execution_count": 12,
     "metadata": {},
     "output_type": "execute_result"
    }
   ],
   "source": [
    "df_recomendaciones_final2\n",
    "df_recomendaciones_final2.columns\n",
    "\n"
   ]
  },
  {
   "cell_type": "code",
   "execution_count": 13,
   "metadata": {},
   "outputs": [],
   "source": [
    "columnas_eliminar = ['Unnamed: 0','spoken_languagesname', 'genresname','status', 'production_countriesname', 'release_year',\n",
    "       'director', 'actor','title','vote_average']"
   ]
  },
  {
   "cell_type": "code",
   "execution_count": 14,
   "metadata": {},
   "outputs": [],
   "source": [
    "df_recomendaciones_final2.drop(columnas_eliminar, axis=1, inplace=True)"
   ]
  },
  {
   "cell_type": "code",
   "execution_count": 15,
   "metadata": {},
   "outputs": [
    {
     "data": {
      "text/plain": [
       "Index(['id', 'clean_title', 'clean_overview', 'combined_features'], dtype='object')"
      ]
     },
     "execution_count": 15,
     "metadata": {},
     "output_type": "execute_result"
    }
   ],
   "source": [
    "df_recomendaciones_final2.columns"
   ]
  },
  {
   "cell_type": "code",
   "execution_count": 16,
   "metadata": {},
   "outputs": [],
   "source": [
    "#ahora join a traves del id con el dataset peliculas crew\n",
    "df_recomendaciones_final3 = pd.merge(df_recomendaciones_final2, peliculas_crew_df, on='id', how='left')\n"
   ]
  },
  {
   "cell_type": "code",
   "execution_count": 17,
   "metadata": {},
   "outputs": [
    {
     "data": {
      "text/plain": [
       "Index(['id', 'clean_title', 'clean_overview', 'combined_features',\n",
       "       'spoken_languagesname', 'genresname', 'title', 'budget', 'revenue',\n",
       "       'overview', 'release_date', 'vote_average', 'vote_count', 'popularity',\n",
       "       'runtime', 'status', 'tagline', 'production_companiesname',\n",
       "       'production_countriesname', 'release_year', 'return', 'director',\n",
       "       'actor'],\n",
       "      dtype='object')"
      ]
     },
     "execution_count": 17,
     "metadata": {},
     "output_type": "execute_result"
    }
   ],
   "source": [
    "df_recomendaciones_final3.columns"
   ]
  },
  {
   "cell_type": "code",
   "execution_count": 18,
   "metadata": {},
   "outputs": [],
   "source": [
    "columnas_eliminar1 = ['spoken_languagesname', 'overview','popularity','runtime','status','tagline','production_companiesname','production_countriesname']"
   ]
  },
  {
   "cell_type": "code",
   "execution_count": 20,
   "metadata": {},
   "outputs": [],
   "source": [
    "#df_recomendaciones_final3.drop(columnas_eliminar1, axis=1, inplace=True)\n",
    "df_recomendaciones_final3.shape \n",
    "df_recomendaciones_final3.to_parquet('testfinal.parquet',index=True)"
   ]
  },
  {
   "cell_type": "code",
   "execution_count": null,
   "metadata": {},
   "outputs": [],
   "source": []
  },
  {
   "cell_type": "code",
   "execution_count": 21,
   "metadata": {},
   "outputs": [
    {
     "data": {
      "text/html": [
       "<div>\n",
       "<style scoped>\n",
       "    .dataframe tbody tr th:only-of-type {\n",
       "        vertical-align: middle;\n",
       "    }\n",
       "\n",
       "    .dataframe tbody tr th {\n",
       "        vertical-align: top;\n",
       "    }\n",
       "\n",
       "    .dataframe thead th {\n",
       "        text-align: right;\n",
       "    }\n",
       "</style>\n",
       "<table border=\"1\" class=\"dataframe\">\n",
       "  <thead>\n",
       "    <tr style=\"text-align: right;\">\n",
       "      <th></th>\n",
       "      <th>id</th>\n",
       "      <th>clean_title</th>\n",
       "      <th>clean_overview</th>\n",
       "      <th>combined_features</th>\n",
       "      <th>spoken_languagesname</th>\n",
       "      <th>genresname</th>\n",
       "      <th>title</th>\n",
       "      <th>budget</th>\n",
       "      <th>revenue</th>\n",
       "      <th>overview</th>\n",
       "      <th>...</th>\n",
       "      <th>popularity</th>\n",
       "      <th>runtime</th>\n",
       "      <th>status</th>\n",
       "      <th>tagline</th>\n",
       "      <th>production_companiesname</th>\n",
       "      <th>production_countriesname</th>\n",
       "      <th>release_year</th>\n",
       "      <th>return</th>\n",
       "      <th>director</th>\n",
       "      <th>actor</th>\n",
       "    </tr>\n",
       "  </thead>\n",
       "  <tbody>\n",
       "    <tr>\n",
       "      <th>0</th>\n",
       "      <td>120676</td>\n",
       "      <td>['circle']</td>\n",
       "      <td>['silent', 'comedy', 'deja', 'vu', 'story', 'r...</td>\n",
       "      <td>['circle'] ['silent', 'comedy', 'deja', 'vu', ...</td>\n",
       "      <td>None</td>\n",
       "      <td>Comedy</td>\n",
       "      <td>The Circle</td>\n",
       "      <td>0.0</td>\n",
       "      <td>0.0</td>\n",
       "      <td>Silent comedy. A deja vu story of runaway youn...</td>\n",
       "      <td>...</td>\n",
       "      <td>0.132439</td>\n",
       "      <td>66.0</td>\n",
       "      <td>Released</td>\n",
       "      <td>SinDato</td>\n",
       "      <td>Metro-Goldwyn-Mayer (MGM)</td>\n",
       "      <td>United States of America</td>\n",
       "      <td>1925.0</td>\n",
       "      <td>0.0</td>\n",
       "      <td>Frank Borzage</td>\n",
       "      <td>Eleanor Boardman, Malcolm McGregor, Alec B. Fr...</td>\n",
       "    </tr>\n",
       "    <tr>\n",
       "      <th>1</th>\n",
       "      <td>176297</td>\n",
       "      <td>['dead', 'set']</td>\n",
       "      <td>['fictional', 'series', 'big', 'brother', 'zom...</td>\n",
       "      <td>['dead', 'set'] ['fictional', 'series', 'big',...</td>\n",
       "      <td>English</td>\n",
       "      <td>Comedy, Horror, Drama</td>\n",
       "      <td>Dead Set</td>\n",
       "      <td>0.0</td>\n",
       "      <td>0.0</td>\n",
       "      <td>During a fictional series of Big Brother, a zo...</td>\n",
       "      <td>...</td>\n",
       "      <td>4.879630</td>\n",
       "      <td>141.0</td>\n",
       "      <td>Released</td>\n",
       "      <td>SinDato</td>\n",
       "      <td>SinDato</td>\n",
       "      <td>United Kingdom</td>\n",
       "      <td>2008.0</td>\n",
       "      <td>0.0</td>\n",
       "      <td>Yann Demange</td>\n",
       "      <td>Jaime Winstone, Andy Nyman, Davina McCall, Riz...</td>\n",
       "    </tr>\n",
       "    <tr>\n",
       "      <th>2</th>\n",
       "      <td>86541</td>\n",
       "      <td>['ghost', 'graduation']</td>\n",
       "      <td>['teacher', 'paranormal', 'abilities', 'helps'...</td>\n",
       "      <td>['ghost', 'graduation'] ['teacher', 'paranorma...</td>\n",
       "      <td>Español</td>\n",
       "      <td>Comedy</td>\n",
       "      <td>Ghost Graduation</td>\n",
       "      <td>0.0</td>\n",
       "      <td>0.0</td>\n",
       "      <td>A teacher with paranormal abilities helps a gr...</td>\n",
       "      <td>...</td>\n",
       "      <td>2.801721</td>\n",
       "      <td>88.0</td>\n",
       "      <td>Released</td>\n",
       "      <td>SinDato</td>\n",
       "      <td>Think Studio</td>\n",
       "      <td>Spain</td>\n",
       "      <td>2012.0</td>\n",
       "      <td>0.0</td>\n",
       "      <td>Javier Ruiz Caldera</td>\n",
       "      <td>Raúl Arévalo, Alexandra Jiménez, Andrea Duro, ...</td>\n",
       "    </tr>\n",
       "    <tr>\n",
       "      <th>3</th>\n",
       "      <td>60489</td>\n",
       "      <td>['last', 'patrol']</td>\n",
       "      <td>['massive', 'earthquake', 'destroys', 'angeles...</td>\n",
       "      <td>['last', 'patrol'] ['massive', 'earthquake', '...</td>\n",
       "      <td>English</td>\n",
       "      <td>Action, Science Fiction, Thriller, Drama</td>\n",
       "      <td>The Last Patrol</td>\n",
       "      <td>3000000.0</td>\n",
       "      <td>0.0</td>\n",
       "      <td>After a massive earthquake destroys Los Angele...</td>\n",
       "      <td>...</td>\n",
       "      <td>3.095364</td>\n",
       "      <td>95.0</td>\n",
       "      <td>Released</td>\n",
       "      <td>After the final earthquake... welcome to the i...</td>\n",
       "      <td>Silverline Pictures</td>\n",
       "      <td>Israel</td>\n",
       "      <td>2001.0</td>\n",
       "      <td>0.0</td>\n",
       "      <td>Sheldon Lettich</td>\n",
       "      <td>Dolph Lundgren, Sherri Alexander, Joe Michael ...</td>\n",
       "    </tr>\n",
       "    <tr>\n",
       "      <th>4</th>\n",
       "      <td>434</td>\n",
       "      <td>['tough', 'enough']</td>\n",
       "      <td>['youth', 'directed', 'novel', 'name', 'greogo...</td>\n",
       "      <td>['tough', 'enough'] ['youth', 'directed', 'nov...</td>\n",
       "      <td>Deutsch</td>\n",
       "      <td>Thriller, Drama</td>\n",
       "      <td>Tough Enough</td>\n",
       "      <td>0.0</td>\n",
       "      <td>0.0</td>\n",
       "      <td>From the youth directed novel of the same name...</td>\n",
       "      <td>...</td>\n",
       "      <td>1.634982</td>\n",
       "      <td>99.0</td>\n",
       "      <td>Released</td>\n",
       "      <td>SinDato</td>\n",
       "      <td>Boje Buck Produktion</td>\n",
       "      <td>Germany</td>\n",
       "      <td>2006.0</td>\n",
       "      <td>0.0</td>\n",
       "      <td>Detlev Buck</td>\n",
       "      <td>David Kross, Jenny Elvers, Erhan Emre, Oktay Ö...</td>\n",
       "    </tr>\n",
       "  </tbody>\n",
       "</table>\n",
       "<p>5 rows × 23 columns</p>\n",
       "</div>"
      ],
      "text/plain": [
       "       id              clean_title  \\\n",
       "0  120676               ['circle']   \n",
       "1  176297          ['dead', 'set']   \n",
       "2   86541  ['ghost', 'graduation']   \n",
       "3   60489       ['last', 'patrol']   \n",
       "4     434      ['tough', 'enough']   \n",
       "\n",
       "                                      clean_overview  \\\n",
       "0  ['silent', 'comedy', 'deja', 'vu', 'story', 'r...   \n",
       "1  ['fictional', 'series', 'big', 'brother', 'zom...   \n",
       "2  ['teacher', 'paranormal', 'abilities', 'helps'...   \n",
       "3  ['massive', 'earthquake', 'destroys', 'angeles...   \n",
       "4  ['youth', 'directed', 'novel', 'name', 'greogo...   \n",
       "\n",
       "                                   combined_features spoken_languagesname  \\\n",
       "0  ['circle'] ['silent', 'comedy', 'deja', 'vu', ...                 None   \n",
       "1  ['dead', 'set'] ['fictional', 'series', 'big',...              English   \n",
       "2  ['ghost', 'graduation'] ['teacher', 'paranorma...              Español   \n",
       "3  ['last', 'patrol'] ['massive', 'earthquake', '...              English   \n",
       "4  ['tough', 'enough'] ['youth', 'directed', 'nov...              Deutsch   \n",
       "\n",
       "                                 genresname             title     budget  \\\n",
       "0                                    Comedy        The Circle        0.0   \n",
       "1                     Comedy, Horror, Drama          Dead Set        0.0   \n",
       "2                                    Comedy  Ghost Graduation        0.0   \n",
       "3  Action, Science Fiction, Thriller, Drama   The Last Patrol  3000000.0   \n",
       "4                           Thriller, Drama      Tough Enough        0.0   \n",
       "\n",
       "   revenue                                           overview  ... popularity  \\\n",
       "0      0.0  Silent comedy. A deja vu story of runaway youn...  ...   0.132439   \n",
       "1      0.0  During a fictional series of Big Brother, a zo...  ...   4.879630   \n",
       "2      0.0  A teacher with paranormal abilities helps a gr...  ...   2.801721   \n",
       "3      0.0  After a massive earthquake destroys Los Angele...  ...   3.095364   \n",
       "4      0.0  From the youth directed novel of the same name...  ...   1.634982   \n",
       "\n",
       "   runtime    status                                            tagline  \\\n",
       "0     66.0  Released                                            SinDato   \n",
       "1    141.0  Released                                            SinDato   \n",
       "2     88.0  Released                                            SinDato   \n",
       "3     95.0  Released  After the final earthquake... welcome to the i...   \n",
       "4     99.0  Released                                            SinDato   \n",
       "\n",
       "    production_companiesname  production_countriesname release_year return  \\\n",
       "0  Metro-Goldwyn-Mayer (MGM)  United States of America       1925.0    0.0   \n",
       "1                    SinDato            United Kingdom       2008.0    0.0   \n",
       "2               Think Studio                     Spain       2012.0    0.0   \n",
       "3        Silverline Pictures                    Israel       2001.0    0.0   \n",
       "4       Boje Buck Produktion                   Germany       2006.0    0.0   \n",
       "\n",
       "              director                                              actor  \n",
       "0        Frank Borzage  Eleanor Boardman, Malcolm McGregor, Alec B. Fr...  \n",
       "1         Yann Demange  Jaime Winstone, Andy Nyman, Davina McCall, Riz...  \n",
       "2  Javier Ruiz Caldera  Raúl Arévalo, Alexandra Jiménez, Andrea Duro, ...  \n",
       "3      Sheldon Lettich  Dolph Lundgren, Sherri Alexander, Joe Michael ...  \n",
       "4          Detlev Buck  David Kross, Jenny Elvers, Erhan Emre, Oktay Ö...  \n",
       "\n",
       "[5 rows x 23 columns]"
      ]
     },
     "execution_count": 21,
     "metadata": {},
     "output_type": "execute_result"
    }
   ],
   "source": [
    "test= pd.read_parquet('testfinal.parquet')\n",
    "test.head()"
   ]
  },
  {
   "cell_type": "code",
   "execution_count": 5,
   "metadata": {},
   "outputs": [
    {
     "data": {
      "text/plain": [
       "Index(['Unnamed: 0', 'id', 'clean_title', 'clean_overview',\n",
       "       'combined_features', 'genresname', 'title', 'budget', 'revenue',\n",
       "       'release_date', 'vote_average', 'vote_count', 'release_year', 'return',\n",
       "       'director', 'actor'],\n",
       "      dtype='object')"
      ]
     },
     "execution_count": 5,
     "metadata": {},
     "output_type": "execute_result"
    }
   ],
   "source": [
    "moviesfinal= pd.read_csv('data/testfinal.csv')\n",
    "moviesfinal.columns\n"
   ]
  },
  {
   "cell_type": "code",
   "execution_count": 7,
   "metadata": {},
   "outputs": [],
   "source": [
    "#Eliminamos columnas que no usamos \n",
    "columnas_eliminar2 = ['Unnamed: 0','clean_title','clean_overview','combined_features','genresname',]\n",
    "moviesfinal.drop(columnas_eliminar2, axis=1, inplace=True)\n",
    "moviesfinal.columns\n",
    "moviesfinal.to_csv('moviesfinal.csv',index=False)"
   ]
  },
  {
   "cell_type": "code",
   "execution_count": 8,
   "metadata": {},
   "outputs": [
    {
     "data": {
      "text/plain": [
       "Index(['id', 'title', 'budget', 'revenue', 'release_date', 'vote_average',\n",
       "       'vote_count', 'release_year', 'return', 'director', 'actor'],\n",
       "      dtype='object')"
      ]
     },
     "execution_count": 8,
     "metadata": {},
     "output_type": "execute_result"
    }
   ],
   "source": [
    "moviesfinal.columns"
   ]
  },
  {
   "cell_type": "code",
   "execution_count": 25,
   "metadata": {},
   "outputs": [],
   "source": [
    "modelo_final = pd.read_parquet('testfinal.parquet')\n",
    "modelo_final.columns\n",
    "columnas_eliminar =  ['clean_title','clean_overview','genresname','budget', 'revenue','release_date', 'vote_average', 'vote_count', 'release_year', 'return','director', 'actor']"
   ]
  },
  {
   "cell_type": "code",
   "execution_count": 26,
   "metadata": {},
   "outputs": [
    {
     "data": {
      "text/plain": [
       "Index(['id', 'clean_title', 'clean_overview', 'combined_features',\n",
       "       'spoken_languagesname', 'genresname', 'title', 'budget', 'revenue',\n",
       "       'overview', 'release_date', 'vote_average', 'vote_count', 'popularity',\n",
       "       'runtime', 'status', 'tagline', 'production_companiesname',\n",
       "       'production_countriesname', 'release_year', 'return', 'director',\n",
       "       'actor'],\n",
       "      dtype='object')"
      ]
     },
     "execution_count": 26,
     "metadata": {},
     "output_type": "execute_result"
    }
   ],
   "source": [
    "modelo_final.columns"
   ]
  },
  {
   "cell_type": "code",
   "execution_count": 27,
   "metadata": {},
   "outputs": [],
   "source": [
    "modelo_final.drop(columnas_eliminar, axis=1, inplace=True)"
   ]
  },
  {
   "cell_type": "code",
   "execution_count": 28,
   "metadata": {},
   "outputs": [
    {
     "data": {
      "text/plain": [
       "Index(['id', 'combined_features', 'spoken_languagesname', 'title', 'overview',\n",
       "       'popularity', 'runtime', 'status', 'tagline',\n",
       "       'production_companiesname', 'production_countriesname'],\n",
       "      dtype='object')"
      ]
     },
     "execution_count": 28,
     "metadata": {},
     "output_type": "execute_result"
    }
   ],
   "source": [
    "modelo_final.columns\n",
    "# modelo_final.to_csv('modelo_final.csv',index=False)"
   ]
  },
  {
   "cell_type": "code",
   "execution_count": 29,
   "metadata": {},
   "outputs": [],
   "source": [
    "columnas_eliminar =  ['spoken_languagesname','overview',\n",
    "       'popularity', 'runtime', 'status', 'tagline',\n",
    "       'production_companiesname', 'production_countriesname']"
   ]
  },
  {
   "cell_type": "code",
   "execution_count": 30,
   "metadata": {},
   "outputs": [],
   "source": [
    "modelo_final.drop(columnas_eliminar, axis=1, inplace=True)"
   ]
  },
  {
   "cell_type": "code",
   "execution_count": 33,
   "metadata": {},
   "outputs": [],
   "source": [
    "modelo_final.to_csv('/Users/pabloclementi/Desktop/Proyecto1/Proyecto_1_henry/Proyecto_1_Henry/data/modelofinal2.csv',index= False)"
   ]
  },
  {
   "cell_type": "code",
   "execution_count": 18,
   "metadata": {},
   "outputs": [
    {
     "data": {
      "text/plain": [
       "(5000, 3)"
      ]
     },
     "execution_count": 18,
     "metadata": {},
     "output_type": "execute_result"
    }
   ],
   "source": [
    "#Tomar una muestra de 5000 del data frame modelo_final para aplicar el modelo en render \n",
    "modelo_final_5000 = modelo_final.sample(n=5000)\n",
    "modelo_final_5000.to_csv('modelo_final_5000.csv',index=False)\n",
    "modelo_final_5000"
   ]
  },
  {
   "cell_type": "code",
   "execution_count": 2,
   "metadata": {},
   "outputs": [
    {
     "name": "stderr",
     "output_type": "stream",
     "text": [
      "/var/folders/4k/b142n1x53kq0891h836m2hh80000gn/T/ipykernel_73522/4123759272.py:15: SettingWithCopyWarning: \n",
      "A value is trying to be set on a copy of a slice from a DataFrame\n",
      "\n",
      "See the caveats in the documentation: https://pandas.pydata.org/pandas-docs/stable/user_guide/indexing.html#returning-a-view-versus-a-copy\n",
      "  top_5000_movies.drop(columnas_eliminar, axis=1, inplace=True)\n"
     ]
    },
    {
     "data": {
      "text/html": [
       "<div>\n",
       "<style scoped>\n",
       "    .dataframe tbody tr th:only-of-type {\n",
       "        vertical-align: middle;\n",
       "    }\n",
       "\n",
       "    .dataframe tbody tr th {\n",
       "        vertical-align: top;\n",
       "    }\n",
       "\n",
       "    .dataframe thead th {\n",
       "        text-align: right;\n",
       "    }\n",
       "</style>\n",
       "<table border=\"1\" class=\"dataframe\">\n",
       "  <thead>\n",
       "    <tr style=\"text-align: right;\">\n",
       "      <th></th>\n",
       "      <th>id</th>\n",
       "      <th>combined_features</th>\n",
       "      <th>title</th>\n",
       "    </tr>\n",
       "  </thead>\n",
       "  <tbody>\n",
       "    <tr>\n",
       "      <th>25694</th>\n",
       "      <td>86594</td>\n",
       "      <td>['search', 'ancient', 'astronauts'] ['edited',...</td>\n",
       "      <td>In Search of Ancient Astronauts</td>\n",
       "    </tr>\n",
       "    <tr>\n",
       "      <th>3658</th>\n",
       "      <td>71508</td>\n",
       "      <td>['taming', 'shrew'] ['baptista', 'two', 'daugh...</td>\n",
       "      <td>The Taming of the Shrew</td>\n",
       "    </tr>\n",
       "    <tr>\n",
       "      <th>21157</th>\n",
       "      <td>114423</td>\n",
       "      <td>['canal', 'zone'] ['canal', 'zone', 'people', ...</td>\n",
       "      <td>Canal Zone</td>\n",
       "    </tr>\n",
       "    <tr>\n",
       "      <th>12100</th>\n",
       "      <td>170078</td>\n",
       "      <td>['maula', 'jat'] ['maula', 'jat', 'tells', 'tr...</td>\n",
       "      <td>Maula Jat</td>\n",
       "    </tr>\n",
       "    <tr>\n",
       "      <th>1219</th>\n",
       "      <td>162821</td>\n",
       "      <td>['nocturne', 'indien'] ['enigmatic', 'vivid', ...</td>\n",
       "      <td>Nocturne Indien</td>\n",
       "    </tr>\n",
       "    <tr>\n",
       "      <th>...</th>\n",
       "      <td>...</td>\n",
       "      <td>...</td>\n",
       "      <td>...</td>\n",
       "    </tr>\n",
       "    <tr>\n",
       "      <th>14349</th>\n",
       "      <td>69903</td>\n",
       "      <td>['greatest'] ['greatest', 'film', 'life', 'box...</td>\n",
       "      <td>The Greatest</td>\n",
       "    </tr>\n",
       "    <tr>\n",
       "      <th>2313</th>\n",
       "      <td>19908</td>\n",
       "      <td>['zombieland'] ['columbus', 'made', 'habit', '...</td>\n",
       "      <td>Zombieland</td>\n",
       "    </tr>\n",
       "    <tr>\n",
       "      <th>24432</th>\n",
       "      <td>1278</td>\n",
       "      <td>['dreamers'] ['young', 'american', 'studying',...</td>\n",
       "      <td>The Dreamers</td>\n",
       "    </tr>\n",
       "    <tr>\n",
       "      <th>32470</th>\n",
       "      <td>29577</td>\n",
       "      <td>['riviera'] ['remake', 'muarice', 'chavlier', ...</td>\n",
       "      <td>On the Riviera</td>\n",
       "    </tr>\n",
       "    <tr>\n",
       "      <th>14337</th>\n",
       "      <td>11426</td>\n",
       "      <td>['eternity'] ['hawaii', 'private', 'cruelly', ...</td>\n",
       "      <td>From Here to Eternity</td>\n",
       "    </tr>\n",
       "  </tbody>\n",
       "</table>\n",
       "<p>5000 rows × 3 columns</p>\n",
       "</div>"
      ],
      "text/plain": [
       "           id                                  combined_features  \\\n",
       "25694   86594  ['search', 'ancient', 'astronauts'] ['edited',...   \n",
       "3658    71508  ['taming', 'shrew'] ['baptista', 'two', 'daugh...   \n",
       "21157  114423  ['canal', 'zone'] ['canal', 'zone', 'people', ...   \n",
       "12100  170078  ['maula', 'jat'] ['maula', 'jat', 'tells', 'tr...   \n",
       "1219   162821  ['nocturne', 'indien'] ['enigmatic', 'vivid', ...   \n",
       "...       ...                                                ...   \n",
       "14349   69903  ['greatest'] ['greatest', 'film', 'life', 'box...   \n",
       "2313    19908  ['zombieland'] ['columbus', 'made', 'habit', '...   \n",
       "24432    1278  ['dreamers'] ['young', 'american', 'studying',...   \n",
       "32470   29577  ['riviera'] ['remake', 'muarice', 'chavlier', ...   \n",
       "14337   11426  ['eternity'] ['hawaii', 'private', 'cruelly', ...   \n",
       "\n",
       "                                 title  \n",
       "25694  In Search of Ancient Astronauts  \n",
       "3658           The Taming of the Shrew  \n",
       "21157                       Canal Zone  \n",
       "12100                        Maula Jat  \n",
       "1219                   Nocturne Indien  \n",
       "...                                ...  \n",
       "14349                     The Greatest  \n",
       "2313                        Zombieland  \n",
       "24432                     The Dreamers  \n",
       "32470                   On the Riviera  \n",
       "14337            From Here to Eternity  \n",
       "\n",
       "[5000 rows x 3 columns]"
      ]
     },
     "execution_count": 2,
     "metadata": {},
     "output_type": "execute_result"
    }
   ],
   "source": [
    "import pandas as pd\n",
    "\n",
    "# Cargar el DataFrame desde un archivo CSV\n",
    "df = pd.read_csv('data/testfinal.csv')\n",
    "\n",
    "\n",
    "# Ordenar el DataFrame por 'vote_average' en orden descendente\n",
    "df_sorted = df.sort_values(by='vote_average', ascending=False)\n",
    "\n",
    "# Seleccionar las primeras 5000 filas\n",
    "top_5000_movies = df_sorted.head(5000)\n",
    "columnas_eliminar =  ['Unnamed: 0','clean_title','clean_overview','genresname','budget', 'revenue','release_date', 'vote_average', 'vote_count', 'release_year', 'return','director', 'actor']\n",
    "\n",
    "\n",
    "top_5000_movies.drop(columnas_eliminar, axis=1, inplace=True) \n",
    "#Mostramos dataframe \n",
    "top_5000_movies\n",
    "\n",
    "# # Opcional: Guardar el DataFrame resultante en un nuevo archivo CSV\n",
    "# # top_5000_movies.to_csv('ruta/al/nuevo_archivo.csv', index=False)\n"
   ]
  },
  {
   "cell_type": "code",
   "execution_count": 3,
   "metadata": {},
   "outputs": [],
   "source": [
    "top_5000_movies.to_csv('top_5000_movies.csv', index=False)"
   ]
  }
 ],
 "metadata": {
  "kernelspec": {
   "display_name": "Python 3",
   "language": "python",
   "name": "python3"
  },
  "language_info": {
   "codemirror_mode": {
    "name": "ipython",
    "version": 3
   },
   "file_extension": ".py",
   "mimetype": "text/x-python",
   "name": "python",
   "nbconvert_exporter": "python",
   "pygments_lexer": "ipython3",
   "version": "3.12.1"
  }
 },
 "nbformat": 4,
 "nbformat_minor": 2
}
