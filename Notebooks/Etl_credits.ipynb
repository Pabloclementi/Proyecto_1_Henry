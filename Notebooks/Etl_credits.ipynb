{
 "cells": [
  {
   "cell_type": "markdown",
   "metadata": {},
   "source": [
    "# ETL_Credits"
   ]
  },
  {
   "cell_type": "code",
   "execution_count": 1,
   "metadata": {},
   "outputs": [],
   "source": [
    "#Primero importaremos todas las herramientas que utilizaremos en el proceso de ETL\n",
    "\n",
    "import ast \n",
    "import pandas as pd\n"
   ]
  },
  {
   "cell_type": "code",
   "execution_count": 2,
   "metadata": {},
   "outputs": [],
   "source": [
    "#Cargamos los datasets en variables con el metodo de pandas pd.read_csv()\n",
    "credits_df = pd.read_csv('/Users/pabloclementi/Desktop/Proyecto1/Proyecto_final_1/data_original/credits.csv')\n"
   ]
  },
  {
   "cell_type": "code",
   "execution_count": 5,
   "metadata": {},
   "outputs": [],
   "source": [
    "#Crear credits_df_cast con las columnas \"cast\" y \"id\"\n",
    "credits_df_cast = credits_df[['cast', 'id']].copy()\n",
    "\n",
    "#Crear credits_df_crew con las columnas \"crew\" y \"id\"\n",
    "credits_df_crew = credits_df[['crew', 'id']].copy()\n"
   ]
  },
  {
   "cell_type": "code",
   "execution_count": 6,
   "metadata": {},
   "outputs": [],
   "source": [
    "#Realizamos una funcion para eliminar espacios en blanco en las columnas\n",
    "def trim_columnas(df):\n",
    "    for col in df.select_dtypes(include=['object']):\n",
    "        df[col] = df[col].apply(lambda x: x.strip() if isinstance(x, str) else x)\n",
    "    return df"
   ]
  },
  {
   "cell_type": "code",
   "execution_count": 7,
   "metadata": {},
   "outputs": [],
   "source": [
    "credits_df_cast=trim_columnas(credits_df_cast)\n",
    "credits_df_crew=trim_columnas(credits_df_crew) \n",
    "# credits_df_cast.head()\n",
    "# credits_df_crew.head()\n",
    "# credits_df_cast.info()\n",
    "# credits_df_crew.info() #Se verifico que no hay duplicados haciendo un drop duplicate la info sigue igual. #Borramos la linea de codigo que eliminaba duplicados."
   ]
  },
  {
   "cell_type": "code",
   "execution_count": 8,
   "metadata": {},
   "outputs": [
    {
     "data": {
      "text/plain": [
       "Index(['crew', 'id'], dtype='object')"
      ]
     },
     "execution_count": 8,
     "metadata": {},
     "output_type": "execute_result"
    }
   ],
   "source": [
    "credits_df_crew.columns"
   ]
  },
  {
   "cell_type": "code",
   "execution_count": 9,
   "metadata": {},
   "outputs": [
    {
     "data": {
      "text/plain": [
       "Index(['cast', 'id'], dtype='object')"
      ]
     },
     "execution_count": 9,
     "metadata": {},
     "output_type": "execute_result"
    }
   ],
   "source": [
    "credits_df_cast.columns"
   ]
  },
  {
   "cell_type": "code",
   "execution_count": 10,
   "metadata": {},
   "outputs": [],
   "source": [
    "columns_to_expand_crew = ['crew'] \n",
    "columns_to_expand_cast = ['cast']\n"
   ]
  },
  {
   "cell_type": "code",
   "execution_count": 11,
   "metadata": {},
   "outputs": [],
   "source": [
    "def expandircolumnas(df, columns):\n",
    "    for column in columns:\n",
    "        df[column] = df[column].apply(lambda x: ast.literal_eval(x) if pd.notnull(x) else [])\n",
    "        # Expandir la columna en filas\n",
    "        df = df.explode(column)\n",
    "        # Normalizar la columna expandida\n",
    "        col_df = pd.json_normalize(df[column])\n",
    "        # Renombrar las columnas normalizadas para evitar superposiciones\n",
    "        col_df = col_df.add_prefix(f'{column}')\n",
    "        # Concatenar las columnas normalizadas con el DataFrame original\n",
    "        df = df.drop(columns=[column]).reset_index(drop=True).join(col_df)\n",
    "    return df\n",
    "\n"
   ]
  },
  {
   "cell_type": "code",
   "execution_count": 12,
   "metadata": {},
   "outputs": [
    {
     "data": {
      "text/html": [
       "<div>\n",
       "<style scoped>\n",
       "    .dataframe tbody tr th:only-of-type {\n",
       "        vertical-align: middle;\n",
       "    }\n",
       "\n",
       "    .dataframe tbody tr th {\n",
       "        vertical-align: top;\n",
       "    }\n",
       "\n",
       "    .dataframe thead th {\n",
       "        text-align: right;\n",
       "    }\n",
       "</style>\n",
       "<table border=\"1\" class=\"dataframe\">\n",
       "  <thead>\n",
       "    <tr style=\"text-align: right;\">\n",
       "      <th></th>\n",
       "      <th>id</th>\n",
       "      <th>crewcredit_id</th>\n",
       "      <th>crewdepartment</th>\n",
       "      <th>crewgender</th>\n",
       "      <th>crewid</th>\n",
       "      <th>crewjob</th>\n",
       "      <th>crewname</th>\n",
       "      <th>crewprofile_path</th>\n",
       "    </tr>\n",
       "  </thead>\n",
       "  <tbody>\n",
       "    <tr>\n",
       "      <th>0</th>\n",
       "      <td>862</td>\n",
       "      <td>52fe4284c3a36847f8024f49</td>\n",
       "      <td>Directing</td>\n",
       "      <td>2.0</td>\n",
       "      <td>7879.0</td>\n",
       "      <td>Director</td>\n",
       "      <td>John Lasseter</td>\n",
       "      <td>/7EdqiNbr4FRjIhKHyPPdFfEEEFG.jpg</td>\n",
       "    </tr>\n",
       "    <tr>\n",
       "      <th>1</th>\n",
       "      <td>862</td>\n",
       "      <td>52fe4284c3a36847f8024f4f</td>\n",
       "      <td>Writing</td>\n",
       "      <td>2.0</td>\n",
       "      <td>12891.0</td>\n",
       "      <td>Screenplay</td>\n",
       "      <td>Joss Whedon</td>\n",
       "      <td>/dTiVsuaTVTeGmvkhcyJvKp2A5kr.jpg</td>\n",
       "    </tr>\n",
       "    <tr>\n",
       "      <th>2</th>\n",
       "      <td>862</td>\n",
       "      <td>52fe4284c3a36847f8024f55</td>\n",
       "      <td>Writing</td>\n",
       "      <td>2.0</td>\n",
       "      <td>7.0</td>\n",
       "      <td>Screenplay</td>\n",
       "      <td>Andrew Stanton</td>\n",
       "      <td>/pvQWsu0qc8JFQhMVJkTHuexUAa1.jpg</td>\n",
       "    </tr>\n",
       "    <tr>\n",
       "      <th>3</th>\n",
       "      <td>862</td>\n",
       "      <td>52fe4284c3a36847f8024f5b</td>\n",
       "      <td>Writing</td>\n",
       "      <td>2.0</td>\n",
       "      <td>12892.0</td>\n",
       "      <td>Screenplay</td>\n",
       "      <td>Joel Cohen</td>\n",
       "      <td>/dAubAiZcvKFbboWlj7oXOkZnTSu.jpg</td>\n",
       "    </tr>\n",
       "    <tr>\n",
       "      <th>4</th>\n",
       "      <td>862</td>\n",
       "      <td>52fe4284c3a36847f8024f61</td>\n",
       "      <td>Writing</td>\n",
       "      <td>0.0</td>\n",
       "      <td>12893.0</td>\n",
       "      <td>Screenplay</td>\n",
       "      <td>Alec Sokolow</td>\n",
       "      <td>/v79vlRYi94BZUQnkkyznbGUZLjT.jpg</td>\n",
       "    </tr>\n",
       "  </tbody>\n",
       "</table>\n",
       "</div>"
      ],
      "text/plain": [
       "    id             crewcredit_id crewdepartment  crewgender   crewid  \\\n",
       "0  862  52fe4284c3a36847f8024f49      Directing         2.0   7879.0   \n",
       "1  862  52fe4284c3a36847f8024f4f        Writing         2.0  12891.0   \n",
       "2  862  52fe4284c3a36847f8024f55        Writing         2.0      7.0   \n",
       "3  862  52fe4284c3a36847f8024f5b        Writing         2.0  12892.0   \n",
       "4  862  52fe4284c3a36847f8024f61        Writing         0.0  12893.0   \n",
       "\n",
       "      crewjob        crewname                  crewprofile_path  \n",
       "0    Director   John Lasseter  /7EdqiNbr4FRjIhKHyPPdFfEEEFG.jpg  \n",
       "1  Screenplay     Joss Whedon  /dTiVsuaTVTeGmvkhcyJvKp2A5kr.jpg  \n",
       "2  Screenplay  Andrew Stanton  /pvQWsu0qc8JFQhMVJkTHuexUAa1.jpg  \n",
       "3  Screenplay      Joel Cohen  /dAubAiZcvKFbboWlj7oXOkZnTSu.jpg  \n",
       "4  Screenplay    Alec Sokolow  /v79vlRYi94BZUQnkkyznbGUZLjT.jpg  "
      ]
     },
     "execution_count": 12,
     "metadata": {},
     "output_type": "execute_result"
    }
   ],
   "source": [
    "credits_df_crew = expandircolumnas(credits_df_crew, columns_to_expand_crew)\n",
    "credits_df_cast = expandircolumnas(credits_df_cast, columns_to_expand_cast) \n",
    "credits_df_crew.head()\n"
   ]
  },
  {
   "cell_type": "code",
   "execution_count": 13,
   "metadata": {},
   "outputs": [
    {
     "data": {
      "text/html": [
       "<div>\n",
       "<style scoped>\n",
       "    .dataframe tbody tr th:only-of-type {\n",
       "        vertical-align: middle;\n",
       "    }\n",
       "\n",
       "    .dataframe tbody tr th {\n",
       "        vertical-align: top;\n",
       "    }\n",
       "\n",
       "    .dataframe thead th {\n",
       "        text-align: right;\n",
       "    }\n",
       "</style>\n",
       "<table border=\"1\" class=\"dataframe\">\n",
       "  <thead>\n",
       "    <tr style=\"text-align: right;\">\n",
       "      <th></th>\n",
       "      <th>id</th>\n",
       "      <th>director</th>\n",
       "    </tr>\n",
       "  </thead>\n",
       "  <tbody>\n",
       "    <tr>\n",
       "      <th>0</th>\n",
       "      <td>862</td>\n",
       "      <td>John Lasseter</td>\n",
       "    </tr>\n",
       "    <tr>\n",
       "      <th>1</th>\n",
       "      <td>8844</td>\n",
       "      <td>Joe Johnston</td>\n",
       "    </tr>\n",
       "    <tr>\n",
       "      <th>2</th>\n",
       "      <td>15602</td>\n",
       "      <td>Howard Deutch</td>\n",
       "    </tr>\n",
       "    <tr>\n",
       "      <th>3</th>\n",
       "      <td>31357</td>\n",
       "      <td>Forest Whitaker</td>\n",
       "    </tr>\n",
       "    <tr>\n",
       "      <th>4</th>\n",
       "      <td>11862</td>\n",
       "      <td>Charles Shyer</td>\n",
       "    </tr>\n",
       "  </tbody>\n",
       "</table>\n",
       "</div>"
      ],
      "text/plain": [
       "      id         director\n",
       "0    862    John Lasseter\n",
       "1   8844     Joe Johnston\n",
       "2  15602    Howard Deutch\n",
       "3  31357  Forest Whitaker\n",
       "4  11862    Charles Shyer"
      ]
     },
     "execution_count": 13,
     "metadata": {},
     "output_type": "execute_result"
    }
   ],
   "source": [
    "#De este Dataframe mantendremos la columna id, la columna crewjob == 'Director'\n",
    "df_directores = credits_df_crew[credits_df_crew['crewjob'] == 'Director']\n",
    "\n",
    "# Seleccionar solo las columnas 'id' y 'crewname' (renombrada como 'director')\n",
    "df_directores = df_directores[['id', 'crewname']].copy()\n",
    "\n",
    "# Renombrar la columna 'crewname' a 'director'\n",
    "df_directores.rename(columns={'crewname': 'director'}, inplace=True)\n",
    "#Reseteamos index \n",
    "df_directores = df_directores.reset_index(drop=True)\n",
    "# Mostrar el nuevo DataFrame con los directores\n",
    "df_directores.head()"
   ]
  },
  {
   "cell_type": "code",
   "execution_count": 14,
   "metadata": {},
   "outputs": [
    {
     "data": {
      "text/html": [
       "<div>\n",
       "<style scoped>\n",
       "    .dataframe tbody tr th:only-of-type {\n",
       "        vertical-align: middle;\n",
       "    }\n",
       "\n",
       "    .dataframe tbody tr th {\n",
       "        vertical-align: top;\n",
       "    }\n",
       "\n",
       "    .dataframe thead th {\n",
       "        text-align: right;\n",
       "    }\n",
       "</style>\n",
       "<table border=\"1\" class=\"dataframe\">\n",
       "  <thead>\n",
       "    <tr style=\"text-align: right;\">\n",
       "      <th></th>\n",
       "      <th>id</th>\n",
       "      <th>castcast_id</th>\n",
       "      <th>castcharacter</th>\n",
       "      <th>castcredit_id</th>\n",
       "      <th>castgender</th>\n",
       "      <th>castid</th>\n",
       "      <th>castname</th>\n",
       "      <th>castorder</th>\n",
       "      <th>castprofile_path</th>\n",
       "    </tr>\n",
       "  </thead>\n",
       "  <tbody>\n",
       "    <tr>\n",
       "      <th>0</th>\n",
       "      <td>862</td>\n",
       "      <td>14.0</td>\n",
       "      <td>Woody (voice)</td>\n",
       "      <td>52fe4284c3a36847f8024f95</td>\n",
       "      <td>2.0</td>\n",
       "      <td>31.0</td>\n",
       "      <td>Tom Hanks</td>\n",
       "      <td>0.0</td>\n",
       "      <td>/pQFoyx7rp09CJTAb932F2g8Nlho.jpg</td>\n",
       "    </tr>\n",
       "    <tr>\n",
       "      <th>1</th>\n",
       "      <td>862</td>\n",
       "      <td>15.0</td>\n",
       "      <td>Buzz Lightyear (voice)</td>\n",
       "      <td>52fe4284c3a36847f8024f99</td>\n",
       "      <td>2.0</td>\n",
       "      <td>12898.0</td>\n",
       "      <td>Tim Allen</td>\n",
       "      <td>1.0</td>\n",
       "      <td>/uX2xVf6pMmPepxnvFWyBtjexzgY.jpg</td>\n",
       "    </tr>\n",
       "    <tr>\n",
       "      <th>2</th>\n",
       "      <td>862</td>\n",
       "      <td>16.0</td>\n",
       "      <td>Mr. Potato Head (voice)</td>\n",
       "      <td>52fe4284c3a36847f8024f9d</td>\n",
       "      <td>2.0</td>\n",
       "      <td>7167.0</td>\n",
       "      <td>Don Rickles</td>\n",
       "      <td>2.0</td>\n",
       "      <td>/h5BcaDMPRVLHLDzbQavec4xfSdt.jpg</td>\n",
       "    </tr>\n",
       "    <tr>\n",
       "      <th>3</th>\n",
       "      <td>862</td>\n",
       "      <td>17.0</td>\n",
       "      <td>Slinky Dog (voice)</td>\n",
       "      <td>52fe4284c3a36847f8024fa1</td>\n",
       "      <td>2.0</td>\n",
       "      <td>12899.0</td>\n",
       "      <td>Jim Varney</td>\n",
       "      <td>3.0</td>\n",
       "      <td>/eIo2jVVXYgjDtaHoF19Ll9vtW7h.jpg</td>\n",
       "    </tr>\n",
       "    <tr>\n",
       "      <th>4</th>\n",
       "      <td>862</td>\n",
       "      <td>18.0</td>\n",
       "      <td>Rex (voice)</td>\n",
       "      <td>52fe4284c3a36847f8024fa5</td>\n",
       "      <td>2.0</td>\n",
       "      <td>12900.0</td>\n",
       "      <td>Wallace Shawn</td>\n",
       "      <td>4.0</td>\n",
       "      <td>/oGE6JqPP2xH4tNORKNqxbNPYi7u.jpg</td>\n",
       "    </tr>\n",
       "  </tbody>\n",
       "</table>\n",
       "</div>"
      ],
      "text/plain": [
       "    id  castcast_id            castcharacter             castcredit_id  \\\n",
       "0  862         14.0            Woody (voice)  52fe4284c3a36847f8024f95   \n",
       "1  862         15.0   Buzz Lightyear (voice)  52fe4284c3a36847f8024f99   \n",
       "2  862         16.0  Mr. Potato Head (voice)  52fe4284c3a36847f8024f9d   \n",
       "3  862         17.0       Slinky Dog (voice)  52fe4284c3a36847f8024fa1   \n",
       "4  862         18.0              Rex (voice)  52fe4284c3a36847f8024fa5   \n",
       "\n",
       "   castgender   castid       castname  castorder  \\\n",
       "0         2.0     31.0      Tom Hanks        0.0   \n",
       "1         2.0  12898.0      Tim Allen        1.0   \n",
       "2         2.0   7167.0    Don Rickles        2.0   \n",
       "3         2.0  12899.0     Jim Varney        3.0   \n",
       "4         2.0  12900.0  Wallace Shawn        4.0   \n",
       "\n",
       "                   castprofile_path  \n",
       "0  /pQFoyx7rp09CJTAb932F2g8Nlho.jpg  \n",
       "1  /uX2xVf6pMmPepxnvFWyBtjexzgY.jpg  \n",
       "2  /h5BcaDMPRVLHLDzbQavec4xfSdt.jpg  \n",
       "3  /eIo2jVVXYgjDtaHoF19Ll9vtW7h.jpg  \n",
       "4  /oGE6JqPP2xH4tNORKNqxbNPYi7u.jpg  "
      ]
     },
     "execution_count": 14,
     "metadata": {},
     "output_type": "execute_result"
    }
   ],
   "source": [
    "credits_df_cast.head()"
   ]
  },
  {
   "cell_type": "code",
   "execution_count": 15,
   "metadata": {},
   "outputs": [],
   "source": [
    "#Aplicamos el mismo proceso para los actores en el dataframe credits_df_cast, solo obteniendo id y castname \n",
    "df_actores = credits_df_cast[['id', 'castname']].copy()\n",
    "df_actores.rename(columns={'castname': 'actor'}, inplace=True)\n",
    "df_actores = df_actores.reset_index(drop=True)\n",
    "df_actores.head()\n",
    "\n",
    "#Unimos los dataframes df_directores y df_actores \n",
    "df_directores_actores = pd.merge(df_directores, df_actores, on='id', how='left')\n",
    "\n",
    "\n",
    "\n",
    "\n",
    "\n"
   ]
  },
  {
   "cell_type": "code",
   "execution_count": 16,
   "metadata": {},
   "outputs": [
    {
     "data": {
      "text/html": [
       "<div>\n",
       "<style scoped>\n",
       "    .dataframe tbody tr th:only-of-type {\n",
       "        vertical-align: middle;\n",
       "    }\n",
       "\n",
       "    .dataframe tbody tr th {\n",
       "        vertical-align: top;\n",
       "    }\n",
       "\n",
       "    .dataframe thead th {\n",
       "        text-align: right;\n",
       "    }\n",
       "</style>\n",
       "<table border=\"1\" class=\"dataframe\">\n",
       "  <thead>\n",
       "    <tr style=\"text-align: right;\">\n",
       "      <th></th>\n",
       "      <th>id</th>\n",
       "      <th>director</th>\n",
       "      <th>actor</th>\n",
       "    </tr>\n",
       "  </thead>\n",
       "  <tbody>\n",
       "    <tr>\n",
       "      <th>0</th>\n",
       "      <td>862</td>\n",
       "      <td>John Lasseter</td>\n",
       "      <td>Tom Hanks</td>\n",
       "    </tr>\n",
       "    <tr>\n",
       "      <th>1</th>\n",
       "      <td>862</td>\n",
       "      <td>John Lasseter</td>\n",
       "      <td>Tim Allen</td>\n",
       "    </tr>\n",
       "    <tr>\n",
       "      <th>2</th>\n",
       "      <td>862</td>\n",
       "      <td>John Lasseter</td>\n",
       "      <td>Don Rickles</td>\n",
       "    </tr>\n",
       "    <tr>\n",
       "      <th>3</th>\n",
       "      <td>862</td>\n",
       "      <td>John Lasseter</td>\n",
       "      <td>Jim Varney</td>\n",
       "    </tr>\n",
       "    <tr>\n",
       "      <th>4</th>\n",
       "      <td>862</td>\n",
       "      <td>John Lasseter</td>\n",
       "      <td>Wallace Shawn</td>\n",
       "    </tr>\n",
       "  </tbody>\n",
       "</table>\n",
       "</div>"
      ],
      "text/plain": [
       "    id       director          actor\n",
       "0  862  John Lasseter      Tom Hanks\n",
       "1  862  John Lasseter      Tim Allen\n",
       "2  862  John Lasseter    Don Rickles\n",
       "3  862  John Lasseter     Jim Varney\n",
       "4  862  John Lasseter  Wallace Shawn"
      ]
     },
     "execution_count": 16,
     "metadata": {},
     "output_type": "execute_result"
    }
   ],
   "source": [
    "df_directores_actores.head()"
   ]
  },
  {
   "cell_type": "code",
   "execution_count": 17,
   "metadata": {},
   "outputs": [
    {
     "name": "stdout",
     "output_type": "stream",
     "text": [
      "<class 'pandas.core.frame.DataFrame'>\n",
      "RangeIndex: 615750 entries, 0 to 615749\n",
      "Data columns (total 3 columns):\n",
      " #   Column    Non-Null Count   Dtype \n",
      "---  ------    --------------   ----- \n",
      " 0   id        615750 non-null  int64 \n",
      " 1   director  615750 non-null  object\n",
      " 2   actor     613363 non-null  object\n",
      "dtypes: int64(1), object(2)\n",
      "memory usage: 14.1+ MB\n",
      "<class 'pandas.core.frame.DataFrame'>\n",
      "RangeIndex: 615750 entries, 0 to 615749\n",
      "Data columns (total 3 columns):\n",
      " #   Column    Non-Null Count   Dtype \n",
      "---  ------    --------------   ----- \n",
      " 0   id        615750 non-null  int64 \n",
      " 1   director  615750 non-null  object\n",
      " 2   actor     615750 non-null  object\n",
      "dtypes: int64(1), object(2)\n",
      "memory usage: 14.1+ MB\n"
     ]
    }
   ],
   "source": [
    "#Convertimos a string las columnas actor y directores\n",
    "df_directores_actores.info()\n",
    "df_directores_actores['actor'] = df_directores_actores['actor'].astype(str)\n",
    "df_directores_actores['director'] = df_directores_actores['director'].astype(str)\n",
    "df_directores_actores.info()"
   ]
  },
  {
   "cell_type": "code",
   "execution_count": 18,
   "metadata": {},
   "outputs": [],
   "source": [
    "# Agrupar por ID de película y concatenar los actores\n",
    "df_agrupado = df_directores_actores.groupby('id').agg({\n",
    "    'director': 'first',  # Tomar el primer valor de la columna 'director'\n",
    "    'actor': lambda x: ', '.join(x)  # Concatenar los valores de la columna 'actor'\n",
    "}).reset_index()"
   ]
  },
  {
   "cell_type": "code",
   "execution_count": 19,
   "metadata": {},
   "outputs": [
    {
     "data": {
      "text/html": [
       "<div>\n",
       "<style scoped>\n",
       "    .dataframe tbody tr th:only-of-type {\n",
       "        vertical-align: middle;\n",
       "    }\n",
       "\n",
       "    .dataframe tbody tr th {\n",
       "        vertical-align: top;\n",
       "    }\n",
       "\n",
       "    .dataframe thead th {\n",
       "        text-align: right;\n",
       "    }\n",
       "</style>\n",
       "<table border=\"1\" class=\"dataframe\">\n",
       "  <thead>\n",
       "    <tr style=\"text-align: right;\">\n",
       "      <th></th>\n",
       "      <th>id</th>\n",
       "      <th>director</th>\n",
       "      <th>actor</th>\n",
       "    </tr>\n",
       "  </thead>\n",
       "  <tbody>\n",
       "    <tr>\n",
       "      <th>0</th>\n",
       "      <td>2</td>\n",
       "      <td>Aki Kaurismäki</td>\n",
       "      <td>Turo Pajala, Susanna Haavisto, Matti Pellonpää...</td>\n",
       "    </tr>\n",
       "    <tr>\n",
       "      <th>1</th>\n",
       "      <td>3</td>\n",
       "      <td>Aki Kaurismäki</td>\n",
       "      <td>Matti Pellonpää, Kati Outinen, Sakari Kuosmane...</td>\n",
       "    </tr>\n",
       "    <tr>\n",
       "      <th>2</th>\n",
       "      <td>5</td>\n",
       "      <td>Allison Anders</td>\n",
       "      <td>Tim Roth, Antonio Banderas, Jennifer Beals, Ma...</td>\n",
       "    </tr>\n",
       "    <tr>\n",
       "      <th>3</th>\n",
       "      <td>6</td>\n",
       "      <td>Stephen Hopkins</td>\n",
       "      <td>Emilio Estevez, Cuba Gooding Jr., Denis Leary,...</td>\n",
       "    </tr>\n",
       "    <tr>\n",
       "      <th>4</th>\n",
       "      <td>11</td>\n",
       "      <td>George Lucas</td>\n",
       "      <td>Mark Hamill, Harrison Ford, Carrie Fisher, Pet...</td>\n",
       "    </tr>\n",
       "  </tbody>\n",
       "</table>\n",
       "</div>"
      ],
      "text/plain": [
       "   id         director                                              actor\n",
       "0   2   Aki Kaurismäki  Turo Pajala, Susanna Haavisto, Matti Pellonpää...\n",
       "1   3   Aki Kaurismäki  Matti Pellonpää, Kati Outinen, Sakari Kuosmane...\n",
       "2   5   Allison Anders  Tim Roth, Antonio Banderas, Jennifer Beals, Ma...\n",
       "3   6  Stephen Hopkins  Emilio Estevez, Cuba Gooding Jr., Denis Leary,...\n",
       "4  11     George Lucas  Mark Hamill, Harrison Ford, Carrie Fisher, Pet..."
      ]
     },
     "execution_count": 19,
     "metadata": {},
     "output_type": "execute_result"
    }
   ],
   "source": [
    "df_agrupado.head()"
   ]
  },
  {
   "cell_type": "code",
   "execution_count": 20,
   "metadata": {},
   "outputs": [
    {
     "data": {
      "text/plain": [
       "0"
      ]
     },
     "execution_count": 20,
     "metadata": {},
     "output_type": "execute_result"
    }
   ],
   "source": [
    "#Verificamos si hay duplicados \n",
    "df_agrupado.duplicated().sum()\n"
   ]
  },
  {
   "cell_type": "code",
   "execution_count": 21,
   "metadata": {},
   "outputs": [],
   "source": [
    "#Exportamos el df_agrupado como archivo csv con el nombre credits_Limpio.csv \n",
    "df_agrupado.to_csv('credits_Limpio.csv', index=False)"
   ]
  }
 ],
 "metadata": {
  "kernelspec": {
   "display_name": "Python 3",
   "language": "python",
   "name": "python3"
  },
  "language_info": {
   "codemirror_mode": {
    "name": "ipython",
    "version": 3
   },
   "file_extension": ".py",
   "mimetype": "text/x-python",
   "name": "python",
   "nbconvert_exporter": "python",
   "pygments_lexer": "ipython3",
   "version": "3.12.1"
  }
 },
 "nbformat": 4,
 "nbformat_minor": 2
}
